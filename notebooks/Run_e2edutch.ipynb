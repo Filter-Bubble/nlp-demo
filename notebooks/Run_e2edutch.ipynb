{
 "cells": [
  {
   "cell_type": "code",
   "execution_count": null,
   "metadata": {},
   "outputs": [],
   "source": [
    "from e2edutch.predict import Predictor\n",
    "import e2edutch.download"
   ]
  },
  {
   "cell_type": "code",
   "execution_count": null,
   "metadata": {},
   "outputs": [],
   "source": [
    "e2edutch.download.download_data()"
   ]
  },
  {
   "cell_type": "code",
   "execution_count": null,
   "metadata": {},
   "outputs": [],
   "source": [
    "example = {\n",
    "        'doc_key': 'test',\n",
    "        'sentences': [['Dit', 'is', 'een', 'zin', '.'],\n",
    "                     ['Dit', 'is', 'er', 'nog', 'een', '.']]\n",
    "   }"
   ]
  },
  {
   "cell_type": "code",
   "execution_count": null,
   "metadata": {},
   "outputs": [],
   "source": [
    "predictor = Predictor()"
   ]
  },
  {
   "cell_type": "markdown",
   "metadata": {},
   "source": [
    "Use the predictor to find the clusters for this example"
   ]
  },
  {
   "cell_type": "code",
   "execution_count": null,
   "metadata": {},
   "outputs": [],
   "source": [
    "clusters = predictor.predict(example)"
   ]
  },
  {
   "cell_type": "code",
   "execution_count": null,
   "metadata": {},
   "outputs": [],
   "source": [
    "clusters"
   ]
  },
  {
   "cell_type": "code",
   "execution_count": null,
   "metadata": {},
   "outputs": [],
   "source": [
    "def print_with_clusters(example, clusters):\n",
    "    sentences_collapsed = [w for s in example['sentences'] for w in s]\n",
    "    \n",
    "    for c_id, cluster in enumerate(clusters):\n",
    "        print('cluster {}'.format(c_id))\n",
    "        clust_starts = [s for s,e in cluster]\n",
    "        clust_ends = [e for s,e in cluster]\n",
    "        clust_sent = []\n",
    "        for w_id, word in enumerate(sentences_collapsed):\n",
    "            if w_id in clust_starts:\n",
    "                clust_sent.append('[')\n",
    "            clust_sent.append(word)\n",
    "            if w_id in clust_ends:\n",
    "                clust_sent.append(']')\n",
    "        print(' '.join(clust_sent))\n",
    "        print('\\n')"
   ]
  },
  {
   "cell_type": "code",
   "execution_count": null,
   "metadata": {},
   "outputs": [],
   "source": [
    "print_with_clusters(example, clusters)"
   ]
  },
  {
   "cell_type": "code",
   "execution_count": null,
   "metadata": {},
   "outputs": [],
   "source": [
    "example2 = {'doc_key':'test2',\n",
    "            'sentences': [['Hallo', ',', 'ik', 'ben', 'Dafne', '.'],\n",
    "                         ['Ik', 'heb', 'deze', 'tekst', 'geschreven', '.']]}\n",
    "clusters2 = predictor.predict(example2)\n",
    "clusters2"
   ]
  },
  {
   "cell_type": "code",
   "execution_count": null,
   "metadata": {},
   "outputs": [],
   "source": [
    "print_with_clusters(example2, clusters2)"
   ]
  },
  {
   "cell_type": "code",
   "execution_count": null,
   "metadata": {},
   "outputs": [],
   "source": []
  }
 ],
 "metadata": {
  "kernelspec": {
   "display_name": "Python [conda env:e2e-tf2]",
   "language": "python",
   "name": "conda-env-e2e-tf2-py"
  },
  "language_info": {
   "codemirror_mode": {
    "name": "ipython",
    "version": 3
   },
   "file_extension": ".py",
   "mimetype": "text/x-python",
   "name": "python",
   "nbconvert_exporter": "python",
   "pygments_lexer": "ipython3",
   "version": "3.6.10"
  }
 },
 "nbformat": 4,
 "nbformat_minor": 2
}
