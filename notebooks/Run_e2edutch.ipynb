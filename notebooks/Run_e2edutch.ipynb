{
 "cells": [
  {
   "cell_type": "code",
   "execution_count": 1,
   "metadata": {},
   "outputs": [
    {
     "name": "stdout",
     "output_type": "stream",
     "text": [
      "WARNING:tensorflow:From /home/dafne/anaconda3/envs/e2e-tf2/lib/python3.6/site-packages/tensorflow/python/compat/v2_compat.py:96: disable_resource_variables (from tensorflow.python.ops.variable_scope) is deprecated and will be removed in a future version.\n",
      "Instructions for updating:\n",
      "non-resource variables are not supported in the long term\n"
     ]
    }
   ],
   "source": [
    "from e2edutch.predict import Predictor\n",
    "import e2edutch.download"
   ]
  },
  {
   "cell_type": "code",
   "execution_count": 2,
   "metadata": {},
   "outputs": [],
   "source": [
    "e2edutch.download.download_data()"
   ]
  },
  {
   "cell_type": "code",
   "execution_count": 3,
   "metadata": {},
   "outputs": [],
   "source": [
    "example = {\n",
    "        'doc_key': 'test',\n",
    "        'sentences': [['Dit', 'is', 'een', 'zin', '.'],\n",
    "                     ['Dit', 'is', 'er', 'nog', 'een', '.']]\n",
    "   }"
   ]
  },
  {
   "cell_type": "code",
   "execution_count": 4,
   "metadata": {},
   "outputs": [
    {
     "name": "stdout",
     "output_type": "stream",
     "text": [
      "WARNING:tensorflow:From /home/dafne/filter-bubble/e2e-Dutch/e2edutch/coref_model.py:278: to_float (from tensorflow.python.ops.math_ops) is deprecated and will be removed in a future version.\n",
      "Instructions for updating:\n",
      "Use `tf.cast` instead.\n",
      "WARNING:tensorflow:From /home/dafne/filter-bubble/e2e-Dutch/e2edutch/coref_model.py:398: calling dropout (from tensorflow.python.ops.nn_ops) with keep_prob is deprecated and will be removed in a future version.\n",
      "Instructions for updating:\n",
      "Please use `rate` instead of `keep_prob`. Rate should be set to `rate = 1 - keep_prob`.\n",
      "WARNING:tensorflow:From /home/dafne/filter-bubble/e2e-Dutch/e2edutch/coref_model.py:756: bidirectional_dynamic_rnn (from tensorflow.python.ops.rnn) is deprecated and will be removed in a future version.\n",
      "Instructions for updating:\n",
      "Please use `keras.layers.Bidirectional(keras.layers.RNN(cell))`, which is equivalent to this API\n",
      "WARNING:tensorflow:From /home/dafne/anaconda3/envs/e2e-tf2/lib/python3.6/site-packages/tensorflow/python/ops/rnn.py:464: dynamic_rnn (from tensorflow.python.ops.rnn) is deprecated and will be removed in a future version.\n",
      "Instructions for updating:\n",
      "Please use `keras.layers.RNN(cell)`, which is equivalent to this API\n",
      "WARNING:tensorflow:From /home/dafne/filter-bubble/e2e-Dutch/e2edutch/coref_model.py:273: to_int32 (from tensorflow.python.ops.math_ops) is deprecated and will be removed in a future version.\n",
      "Instructions for updating:\n",
      "Use `tf.cast` instead.\n"
     ]
    },
    {
     "name": "stderr",
     "output_type": "stream",
     "text": [
      "/home/dafne/anaconda3/envs/e2e-tf2/lib/python3.6/site-packages/tensorflow/python/framework/indexed_slices.py:434: UserWarning: Converting sparse IndexedSlices to a dense Tensor of unknown shape. This may consume a large amount of memory.\n",
      "  \"Converting sparse IndexedSlices to a dense Tensor of unknown shape. \"\n"
     ]
    },
    {
     "name": "stdout",
     "output_type": "stream",
     "text": [
      "INFO:tensorflow:Restoring parameters from /home/dafne/filter-bubble/e2e-Dutch/e2edutch/data/final/model.max.ckpt\n"
     ]
    }
   ],
   "source": [
    "predictor = Predictor(verbose=True)"
   ]
  },
  {
   "cell_type": "markdown",
   "metadata": {},
   "source": [
    "Use the predictor to find the clusters for this example"
   ]
  },
  {
   "cell_type": "code",
   "execution_count": 5,
   "metadata": {},
   "outputs": [],
   "source": [
    "clusters = predictor.predict(example)"
   ]
  },
  {
   "cell_type": "code",
   "execution_count": 6,
   "metadata": {},
   "outputs": [
    {
     "data": {
      "text/plain": [
       "[((0, 0),), ((5, 5),)]"
      ]
     },
     "execution_count": 6,
     "metadata": {},
     "output_type": "execute_result"
    }
   ],
   "source": [
    "clusters"
   ]
  },
  {
   "cell_type": "code",
   "execution_count": 7,
   "metadata": {},
   "outputs": [],
   "source": [
    "def print_with_clusters(example, clusters):\n",
    "    sentences_collapsed = [w for s in example['sentences'] for w in s]\n",
    "    \n",
    "    for c_id, cluster in enumerate(clusters):\n",
    "        print('cluster {}'.format(c_id))\n",
    "        clust_starts = [s for s,e in cluster]\n",
    "        clust_ends = [e for s,e in cluster]\n",
    "        clust_sent = []\n",
    "        for w_id, word in enumerate(sentences_collapsed):\n",
    "            if w_id in clust_starts:\n",
    "                clust_sent.append('[')\n",
    "            clust_sent.append(word)\n",
    "            if w_id in clust_ends:\n",
    "                clust_sent.append(']')\n",
    "        print(' '.join(clust_sent))\n",
    "        print('\\n')"
   ]
  },
  {
   "cell_type": "code",
   "execution_count": 8,
   "metadata": {},
   "outputs": [
    {
     "name": "stdout",
     "output_type": "stream",
     "text": [
      "cluster 0\n",
      "[ Dit ] is een zin . Dit is er nog een .\n",
      "\n",
      "\n",
      "cluster 1\n",
      "Dit is een zin . [ Dit ] is er nog een .\n",
      "\n",
      "\n"
     ]
    }
   ],
   "source": [
    "print_with_clusters(example, clusters)"
   ]
  },
  {
   "cell_type": "code",
   "execution_count": 9,
   "metadata": {},
   "outputs": [
    {
     "data": {
      "text/plain": [
       "[((0, 0),), ((2, 2), (6, 6)), ((8, 9),)]"
      ]
     },
     "execution_count": 9,
     "metadata": {},
     "output_type": "execute_result"
    }
   ],
   "source": [
    "example2 = {'doc_key':'test2',\n",
    "            'sentences': [['Hallo', ',', 'ik', 'ben', 'Dafne', '.'],\n",
    "                         ['Ik', 'heb', 'deze', 'tekst', 'geschreven', '.']]}\n",
    "clusters2 = predictor.predict(example2)\n",
    "clusters2"
   ]
  },
  {
   "cell_type": "code",
   "execution_count": 10,
   "metadata": {},
   "outputs": [
    {
     "name": "stdout",
     "output_type": "stream",
     "text": [
      "cluster 0\n",
      "[ Hallo ] , ik ben Dafne . Ik heb deze tekst geschreven .\n",
      "\n",
      "\n",
      "cluster 1\n",
      "Hallo , [ ik ] ben Dafne . [ Ik ] heb deze tekst geschreven .\n",
      "\n",
      "\n",
      "cluster 2\n",
      "Hallo , ik ben Dafne . Ik heb [ deze tekst ] geschreven .\n",
      "\n",
      "\n"
     ]
    }
   ],
   "source": [
    "print_with_clusters(example2, clusters2)"
   ]
  },
  {
   "cell_type": "code",
   "execution_count": null,
   "metadata": {},
   "outputs": [],
   "source": []
  }
 ],
 "metadata": {
  "kernelspec": {
   "display_name": "Python [conda env:e2e-tf2]",
   "language": "python",
   "name": "conda-env-e2e-tf2-py"
  },
  "language_info": {
   "codemirror_mode": {
    "name": "ipython",
    "version": 3
   },
   "file_extension": ".py",
   "mimetype": "text/x-python",
   "name": "python",
   "nbconvert_exporter": "python",
   "pygments_lexer": "ipython3",
   "version": "3.6.10"
  }
 },
 "nbformat": 4,
 "nbformat_minor": 2
}
