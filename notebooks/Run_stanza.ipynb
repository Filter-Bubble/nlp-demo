{
 "cells": [
  {
   "cell_type": "code",
   "execution_count": 1,
   "metadata": {},
   "outputs": [],
   "source": [
    "import stanza"
   ]
  },
  {
   "cell_type": "code",
   "execution_count": 2,
   "metadata": {},
   "outputs": [
    {
     "name": "stderr",
     "output_type": "stream",
     "text": [
      "Downloading https://raw.githubusercontent.com/stanfordnlp/stanza-resources/master/resources_1.1.0.json: 122kB [00:00, 12.8MB/s]                    \n",
      "2021-01-11 14:10:52 INFO: Downloading default packages for language: nl (Dutch)...\n",
      "2021-01-11 14:10:54 INFO: File exists: /home/dafne/stanza_resources/nl/default.zip.\n",
      "2021-01-11 14:11:01 INFO: Finished downloading models and saved to /home/dafne/stanza_resources.\n"
     ]
    }
   ],
   "source": [
    "stanza.download('nl')"
   ]
  },
  {
   "cell_type": "code",
   "execution_count": 3,
   "metadata": {},
   "outputs": [
    {
     "name": "stderr",
     "output_type": "stream",
     "text": [
      "2021-01-11 14:11:01 INFO: Loading these models for language: nl (Dutch):\n",
      "=======================\n",
      "| Processor | Package |\n",
      "-----------------------\n",
      "| tokenize  | alpino  |\n",
      "| pos       | alpino  |\n",
      "| lemma     | alpino  |\n",
      "| depparse  | alpino  |\n",
      "=======================\n",
      "\n",
      "2021-01-11 14:11:01 INFO: Use device: cpu\n",
      "2021-01-11 14:11:01 INFO: Loading: tokenize\n",
      "2021-01-11 14:11:01 INFO: Loading: pos\n",
      "2021-01-11 14:11:02 INFO: Loading: lemma\n",
      "2021-01-11 14:11:02 INFO: Loading: depparse\n",
      "2021-01-11 14:11:04 INFO: Done loading processors!\n"
     ]
    }
   ],
   "source": [
    "nlp = stanza.Pipeline('nl', processors='tokenize,lemma,pos,depparse')"
   ]
  },
  {
   "cell_type": "code",
   "execution_count": 4,
   "metadata": {},
   "outputs": [],
   "source": [
    "txt = 'Dit is een stukje tekst. Het dient als voorbeeld. Ik heb het geschreven'"
   ]
  },
  {
   "cell_type": "markdown",
   "metadata": {},
   "source": [
    "Apply the stanza parser:"
   ]
  },
  {
   "cell_type": "code",
   "execution_count": 5,
   "metadata": {},
   "outputs": [
    {
     "data": {
      "text/plain": [
       "[\n",
       "  [\n",
       "    {\n",
       "      \"id\": 1,\n",
       "      \"text\": \"Dit\",\n",
       "      \"lemma\": \"dit\",\n",
       "      \"upos\": \"PRON\",\n",
       "      \"xpos\": \"VNW|aanw|pron|stan|vol|3o|ev\",\n",
       "      \"feats\": \"Person=3|PronType=Dem\",\n",
       "      \"head\": 4,\n",
       "      \"deprel\": \"nsubj\",\n",
       "      \"misc\": \"start_char=0|end_char=3\"\n",
       "    },\n",
       "    {\n",
       "      \"id\": 2,\n",
       "      \"text\": \"is\",\n",
       "      \"lemma\": \"zijn\",\n",
       "      \"upos\": \"AUX\",\n",
       "      \"xpos\": \"WW|pv|tgw|ev\",\n",
       "      \"feats\": \"Number=Sing|Tense=Pres|VerbForm=Fin\",\n",
       "      \"head\": 4,\n",
       "      \"deprel\": \"cop\",\n",
       "      \"misc\": \"start_char=4|end_char=6\"\n",
       "    },\n",
       "    {\n",
       "      \"id\": 3,\n",
       "      \"text\": \"een\",\n",
       "      \"lemma\": \"een\",\n",
       "      \"upos\": \"DET\",\n",
       "      \"xpos\": \"LID|onbep|stan|agr\",\n",
       "      \"feats\": \"Definite=Ind\",\n",
       "      \"head\": 4,\n",
       "      \"deprel\": \"det\",\n",
       "      \"misc\": \"start_char=7|end_char=10\"\n",
       "    },\n",
       "    {\n",
       "      \"id\": 4,\n",
       "      \"text\": \"stukje\",\n",
       "      \"lemma\": \"stuk\",\n",
       "      \"upos\": \"NOUN\",\n",
       "      \"xpos\": \"N|soort|ev|dim|onz|stan\",\n",
       "      \"feats\": \"Gender=Neut|Number=Sing\",\n",
       "      \"head\": 0,\n",
       "      \"deprel\": \"root\",\n",
       "      \"misc\": \"start_char=11|end_char=17\"\n",
       "    },\n",
       "    {\n",
       "      \"id\": 5,\n",
       "      \"text\": \"tekst\",\n",
       "      \"lemma\": \"tekst\",\n",
       "      \"upos\": \"NOUN\",\n",
       "      \"xpos\": \"N|soort|ev|basis|zijd|stan\",\n",
       "      \"feats\": \"Gender=Com|Number=Sing\",\n",
       "      \"head\": 4,\n",
       "      \"deprel\": \"nmod\",\n",
       "      \"misc\": \"start_char=18|end_char=23\"\n",
       "    },\n",
       "    {\n",
       "      \"id\": 6,\n",
       "      \"text\": \".\",\n",
       "      \"lemma\": \".\",\n",
       "      \"upos\": \"PUNCT\",\n",
       "      \"xpos\": \"LET\",\n",
       "      \"head\": 4,\n",
       "      \"deprel\": \"punct\",\n",
       "      \"misc\": \"start_char=23|end_char=24\"\n",
       "    }\n",
       "  ],\n",
       "  [\n",
       "    {\n",
       "      \"id\": 1,\n",
       "      \"text\": \"Het\",\n",
       "      \"lemma\": \"het\",\n",
       "      \"upos\": \"PRON\",\n",
       "      \"xpos\": \"VNW|pers|pron|stan|red|3|ev|onz\",\n",
       "      \"feats\": \"Person=3|PronType=Prs\",\n",
       "      \"head\": 2,\n",
       "      \"deprel\": \"nsubj\",\n",
       "      \"misc\": \"start_char=25|end_char=28\"\n",
       "    },\n",
       "    {\n",
       "      \"id\": 2,\n",
       "      \"text\": \"dient\",\n",
       "      \"lemma\": \"dienen\",\n",
       "      \"upos\": \"VERB\",\n",
       "      \"xpos\": \"WW|pv|tgw|met-t\",\n",
       "      \"feats\": \"Number=Sing|Tense=Pres|VerbForm=Fin\",\n",
       "      \"head\": 0,\n",
       "      \"deprel\": \"root\",\n",
       "      \"misc\": \"start_char=29|end_char=34\"\n",
       "    },\n",
       "    {\n",
       "      \"id\": 3,\n",
       "      \"text\": \"als\",\n",
       "      \"lemma\": \"als\",\n",
       "      \"upos\": \"ADP\",\n",
       "      \"xpos\": \"VZ|init\",\n",
       "      \"head\": 4,\n",
       "      \"deprel\": \"mark\",\n",
       "      \"misc\": \"start_char=35|end_char=38\"\n",
       "    },\n",
       "    {\n",
       "      \"id\": 4,\n",
       "      \"text\": \"voorbeeld\",\n",
       "      \"lemma\": \"voorbeeld\",\n",
       "      \"upos\": \"NOUN\",\n",
       "      \"xpos\": \"N|soort|ev|basis|onz|stan\",\n",
       "      \"feats\": \"Gender=Neut|Number=Sing\",\n",
       "      \"head\": 2,\n",
       "      \"deprel\": \"xcomp\",\n",
       "      \"misc\": \"start_char=39|end_char=48\"\n",
       "    },\n",
       "    {\n",
       "      \"id\": 5,\n",
       "      \"text\": \".\",\n",
       "      \"lemma\": \".\",\n",
       "      \"upos\": \"PUNCT\",\n",
       "      \"xpos\": \"LET\",\n",
       "      \"head\": 2,\n",
       "      \"deprel\": \"punct\",\n",
       "      \"misc\": \"start_char=48|end_char=49\"\n",
       "    }\n",
       "  ],\n",
       "  [\n",
       "    {\n",
       "      \"id\": 1,\n",
       "      \"text\": \"Ik\",\n",
       "      \"lemma\": \"ik\",\n",
       "      \"upos\": \"PRON\",\n",
       "      \"xpos\": \"VNW|pers|pron|nomin|vol|1|ev\",\n",
       "      \"feats\": \"Case=Nom|Person=1|PronType=Prs\",\n",
       "      \"head\": 4,\n",
       "      \"deprel\": \"nsubj\",\n",
       "      \"misc\": \"start_char=50|end_char=52\"\n",
       "    },\n",
       "    {\n",
       "      \"id\": 2,\n",
       "      \"text\": \"heb\",\n",
       "      \"lemma\": \"hebben\",\n",
       "      \"upos\": \"AUX\",\n",
       "      \"xpos\": \"WW|pv|tgw|ev\",\n",
       "      \"feats\": \"Number=Sing|Tense=Pres|VerbForm=Fin\",\n",
       "      \"head\": 4,\n",
       "      \"deprel\": \"aux\",\n",
       "      \"misc\": \"start_char=53|end_char=56\"\n",
       "    },\n",
       "    {\n",
       "      \"id\": 3,\n",
       "      \"text\": \"het\",\n",
       "      \"lemma\": \"het\",\n",
       "      \"upos\": \"PRON\",\n",
       "      \"xpos\": \"VNW|pers|pron|stan|red|3|ev|onz\",\n",
       "      \"feats\": \"Person=3|PronType=Prs\",\n",
       "      \"head\": 4,\n",
       "      \"deprel\": \"obj\",\n",
       "      \"misc\": \"start_char=57|end_char=60\"\n",
       "    },\n",
       "    {\n",
       "      \"id\": 4,\n",
       "      \"text\": \"geschreven\",\n",
       "      \"lemma\": \"schrijven\",\n",
       "      \"upos\": \"VERB\",\n",
       "      \"xpos\": \"WW|vd|vrij|zonder\",\n",
       "      \"feats\": \"VerbForm=Part\",\n",
       "      \"head\": 0,\n",
       "      \"deprel\": \"root\",\n",
       "      \"misc\": \"start_char=61|end_char=71\"\n",
       "    }\n",
       "  ]\n",
       "]"
      ]
     },
     "execution_count": 5,
     "metadata": {},
     "output_type": "execute_result"
    }
   ],
   "source": [
    "doc = nlp(txt)\n",
    "doc"
   ]
  },
  {
   "cell_type": "markdown",
   "metadata": {},
   "source": [
    "We can also output a conll style document using stanza:"
   ]
  },
  {
   "cell_type": "code",
   "execution_count": 6,
   "metadata": {},
   "outputs": [],
   "source": [
    "conll_list = stanza.utils.conll.CoNLL.convert_dict(doc.to_dict())\n",
    "filename_out = 'text-stanza.conllu'\n",
    "with open(filename_out, 'w') as fout:\n",
    "    for sent_id, sent in enumerate(conll_list):\n",
    "        fout.write('# sent_id = {}\\n'.format(sent_id))\n",
    "        fout.write('# text = {}\\n'.format(doc.sentences[sent_id].text))\n",
    "        for tok in sent:\n",
    "            fout.write('\\t'.join(tok))\n",
    "            fout.write('\\n')\n",
    "        fout.write('\\n')"
   ]
  },
  {
   "cell_type": "code",
   "execution_count": null,
   "metadata": {},
   "outputs": [],
   "source": []
  }
 ],
 "metadata": {
  "kernelspec": {
   "display_name": "Python [conda env:filterbubble]",
   "language": "python",
   "name": "conda-env-filterbubble-py"
  },
  "language_info": {
   "codemirror_mode": {
    "name": "ipython",
    "version": 3
   },
   "file_extension": ".py",
   "mimetype": "text/x-python",
   "name": "python",
   "nbconvert_exporter": "python",
   "pygments_lexer": "ipython3",
   "version": "3.7.5"
  }
 },
 "nbformat": 4,
 "nbformat_minor": 2
}
