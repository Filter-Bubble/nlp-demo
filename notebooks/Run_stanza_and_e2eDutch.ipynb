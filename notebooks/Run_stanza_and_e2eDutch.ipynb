{
 "cells": [
  {
   "cell_type": "code",
   "execution_count": 1,
   "metadata": {},
   "outputs": [
    {
     "name": "stdout",
     "output_type": "stream",
     "text": [
      "WARNING:tensorflow:From /home/dafne/anaconda3/envs/filtbubtest/lib/python3.8/site-packages/tensorflow/python/compat/v2_compat.py:96: disable_resource_variables (from tensorflow.python.ops.variable_scope) is deprecated and will be removed in a future version.\n",
      "Instructions for updating:\n",
      "non-resource variables are not supported in the long term\n"
     ]
    },
    {
     "name": "stderr",
     "output_type": "stream",
     "text": [
      "/home/dafne/anaconda3/envs/filtbubtest/lib/python3.8/site-packages/torch/cuda/__init__.py:52: UserWarning: CUDA initialization: Found no NVIDIA driver on your system. Please check that you have an NVIDIA GPU and installed a driver from http://www.nvidia.com/Download/index.aspx (Triggered internally at  /pytorch/c10/cuda/CUDAFunctions.cpp:100.)\n",
      "  return torch._C._cuda_getDeviceCount() > 0\n"
     ]
    }
   ],
   "source": [
    "import stanza\n",
    "from e2edutch.predict import Predictor\n",
    "import e2edutch.download\n",
    "import io\n",
    "import e2edutch.conll"
   ]
  },
  {
   "cell_type": "markdown",
   "metadata": {},
   "source": [
    "Download data, if needed, for stanza and e2edutch"
   ]
  },
  {
   "cell_type": "code",
   "execution_count": 2,
   "metadata": {},
   "outputs": [
    {
     "name": "stderr",
     "output_type": "stream",
     "text": [
      "Downloading https://raw.githubusercontent.com/stanfordnlp/stanza-resources/master/resources_1.1.0.json: 122kB [00:00, 46.6MB/s]                    \n",
      "2021-01-08 14:58:33 INFO: Downloading default packages for language: nl (Dutch)...\n",
      "2021-01-08 14:58:34 INFO: File exists: /home/dafne/stanza_resources/nl/default.zip.\n",
      "2021-01-08 14:58:40 INFO: Finished downloading models and saved to /home/dafne/stanza_resources.\n"
     ]
    }
   ],
   "source": [
    "stanza.download('nl')"
   ]
  },
  {
   "cell_type": "code",
   "execution_count": 5,
   "metadata": {},
   "outputs": [],
   "source": [
    "e2edutch.download.download_data()"
   ]
  },
  {
   "cell_type": "markdown",
   "metadata": {},
   "source": [
    "Here's the piece of text we want to analyze:"
   ]
  },
  {
   "cell_type": "code",
   "execution_count": 29,
   "metadata": {},
   "outputs": [],
   "source": [
    "txt = 'Dit is een stukje tekst. Deze tekst dient als voorbeeld.'"
   ]
  },
  {
   "cell_type": "markdown",
   "metadata": {},
   "source": [
    "First run stanza"
   ]
  },
  {
   "cell_type": "code",
   "execution_count": 30,
   "metadata": {},
   "outputs": [
    {
     "name": "stderr",
     "output_type": "stream",
     "text": [
      "2021-01-08 15:21:47 INFO: Loading these models for language: nl (Dutch):\n",
      "=======================\n",
      "| Processor | Package |\n",
      "-----------------------\n",
      "| tokenize  | alpino  |\n",
      "| pos       | alpino  |\n",
      "| lemma     | alpino  |\n",
      "| depparse  | alpino  |\n",
      "=======================\n",
      "\n",
      "INFO:stanza:Loading these models for language: nl (Dutch):\n",
      "=======================\n",
      "| Processor | Package |\n",
      "-----------------------\n",
      "| tokenize  | alpino  |\n",
      "| pos       | alpino  |\n",
      "| lemma     | alpino  |\n",
      "| depparse  | alpino  |\n",
      "=======================\n",
      "\n",
      "2021-01-08 15:21:47 INFO: Use device: cpu\n",
      "INFO:stanza:Use device: cpu\n",
      "2021-01-08 15:21:47 INFO: Loading: tokenize\n",
      "INFO:stanza:Loading: tokenize\n",
      "2021-01-08 15:21:47 INFO: Loading: pos\n",
      "INFO:stanza:Loading: pos\n",
      "2021-01-08 15:21:48 INFO: Loading: lemma\n",
      "INFO:stanza:Loading: lemma\n",
      "2021-01-08 15:21:48 INFO: Loading: depparse\n",
      "INFO:stanza:Loading: depparse\n",
      "2021-01-08 15:21:50 INFO: Done loading processors!\n",
      "INFO:stanza:Done loading processors!\n"
     ]
    }
   ],
   "source": [
    "nlp = stanza.Pipeline('nl', processors='tokenize,lemma,pos,depparse')"
   ]
  },
  {
   "cell_type": "code",
   "execution_count": 31,
   "metadata": {},
   "outputs": [],
   "source": [
    "stanza_doc = nlp(txt)"
   ]
  },
  {
   "cell_type": "code",
   "execution_count": 32,
   "metadata": {},
   "outputs": [
    {
     "data": {
      "text/plain": [
       "[\n",
       "  [\n",
       "    {\n",
       "      \"id\": 1,\n",
       "      \"text\": \"Dit\",\n",
       "      \"lemma\": \"dit\",\n",
       "      \"upos\": \"PRON\",\n",
       "      \"xpos\": \"VNW|aanw|pron|stan|vol|3o|ev\",\n",
       "      \"feats\": \"Person=3|PronType=Dem\",\n",
       "      \"head\": 4,\n",
       "      \"deprel\": \"nsubj\",\n",
       "      \"misc\": \"start_char=0|end_char=3\"\n",
       "    },\n",
       "    {\n",
       "      \"id\": 2,\n",
       "      \"text\": \"is\",\n",
       "      \"lemma\": \"zijn\",\n",
       "      \"upos\": \"AUX\",\n",
       "      \"xpos\": \"WW|pv|tgw|ev\",\n",
       "      \"feats\": \"Number=Sing|Tense=Pres|VerbForm=Fin\",\n",
       "      \"head\": 4,\n",
       "      \"deprel\": \"cop\",\n",
       "      \"misc\": \"start_char=4|end_char=6\"\n",
       "    },\n",
       "    {\n",
       "      \"id\": 3,\n",
       "      \"text\": \"een\",\n",
       "      \"lemma\": \"een\",\n",
       "      \"upos\": \"DET\",\n",
       "      \"xpos\": \"LID|onbep|stan|agr\",\n",
       "      \"feats\": \"Definite=Ind\",\n",
       "      \"head\": 4,\n",
       "      \"deprel\": \"det\",\n",
       "      \"misc\": \"start_char=7|end_char=10\"\n",
       "    },\n",
       "    {\n",
       "      \"id\": 4,\n",
       "      \"text\": \"stukje\",\n",
       "      \"lemma\": \"stuk\",\n",
       "      \"upos\": \"NOUN\",\n",
       "      \"xpos\": \"N|soort|ev|dim|onz|stan\",\n",
       "      \"feats\": \"Gender=Neut|Number=Sing\",\n",
       "      \"head\": 0,\n",
       "      \"deprel\": \"root\",\n",
       "      \"misc\": \"start_char=11|end_char=17\"\n",
       "    },\n",
       "    {\n",
       "      \"id\": 5,\n",
       "      \"text\": \"tekst\",\n",
       "      \"lemma\": \"tekst\",\n",
       "      \"upos\": \"NOUN\",\n",
       "      \"xpos\": \"N|soort|ev|basis|zijd|stan\",\n",
       "      \"feats\": \"Gender=Com|Number=Sing\",\n",
       "      \"head\": 4,\n",
       "      \"deprel\": \"nmod\",\n",
       "      \"misc\": \"start_char=18|end_char=23\"\n",
       "    },\n",
       "    {\n",
       "      \"id\": 6,\n",
       "      \"text\": \".\",\n",
       "      \"lemma\": \".\",\n",
       "      \"upos\": \"PUNCT\",\n",
       "      \"xpos\": \"LET\",\n",
       "      \"head\": 4,\n",
       "      \"deprel\": \"punct\",\n",
       "      \"misc\": \"start_char=23|end_char=24\"\n",
       "    }\n",
       "  ],\n",
       "  [\n",
       "    {\n",
       "      \"id\": 1,\n",
       "      \"text\": \"Deze\",\n",
       "      \"lemma\": \"deze\",\n",
       "      \"upos\": \"DET\",\n",
       "      \"xpos\": \"VNW|aanw|det|stan|prenom|met-e|rest\",\n",
       "      \"head\": 2,\n",
       "      \"deprel\": \"det\",\n",
       "      \"misc\": \"start_char=25|end_char=29\"\n",
       "    },\n",
       "    {\n",
       "      \"id\": 2,\n",
       "      \"text\": \"tekst\",\n",
       "      \"lemma\": \"tekst\",\n",
       "      \"upos\": \"NOUN\",\n",
       "      \"xpos\": \"N|soort|ev|basis|zijd|stan\",\n",
       "      \"feats\": \"Gender=Com|Number=Sing\",\n",
       "      \"head\": 3,\n",
       "      \"deprel\": \"nsubj\",\n",
       "      \"misc\": \"start_char=30|end_char=35\"\n",
       "    },\n",
       "    {\n",
       "      \"id\": 3,\n",
       "      \"text\": \"dient\",\n",
       "      \"lemma\": \"dienen\",\n",
       "      \"upos\": \"VERB\",\n",
       "      \"xpos\": \"WW|pv|tgw|met-t\",\n",
       "      \"feats\": \"Number=Sing|Tense=Pres|VerbForm=Fin\",\n",
       "      \"head\": 0,\n",
       "      \"deprel\": \"root\",\n",
       "      \"misc\": \"start_char=36|end_char=41\"\n",
       "    },\n",
       "    {\n",
       "      \"id\": 4,\n",
       "      \"text\": \"als\",\n",
       "      \"lemma\": \"als\",\n",
       "      \"upos\": \"ADP\",\n",
       "      \"xpos\": \"VZ|init\",\n",
       "      \"head\": 5,\n",
       "      \"deprel\": \"mark\",\n",
       "      \"misc\": \"start_char=42|end_char=45\"\n",
       "    },\n",
       "    {\n",
       "      \"id\": 5,\n",
       "      \"text\": \"voorbeeld\",\n",
       "      \"lemma\": \"voorbeeld\",\n",
       "      \"upos\": \"NOUN\",\n",
       "      \"xpos\": \"N|soort|ev|basis|onz|stan\",\n",
       "      \"feats\": \"Gender=Neut|Number=Sing\",\n",
       "      \"head\": 3,\n",
       "      \"deprel\": \"xcomp\",\n",
       "      \"misc\": \"start_char=46|end_char=55\"\n",
       "    },\n",
       "    {\n",
       "      \"id\": 6,\n",
       "      \"text\": \".\",\n",
       "      \"lemma\": \".\",\n",
       "      \"upos\": \"PUNCT\",\n",
       "      \"xpos\": \"LET\",\n",
       "      \"head\": 3,\n",
       "      \"deprel\": \"punct\",\n",
       "      \"misc\": \"start_char=55|end_char=56\"\n",
       "    }\n",
       "  ]\n",
       "]"
      ]
     },
     "execution_count": 32,
     "metadata": {},
     "output_type": "execute_result"
    }
   ],
   "source": [
    "stanza_doc"
   ]
  },
  {
   "cell_type": "markdown",
   "metadata": {},
   "source": [
    "To use the output of stanza for e2edutch, we only need the output of the tokenization:"
   ]
  },
  {
   "cell_type": "code",
   "execution_count": 33,
   "metadata": {},
   "outputs": [],
   "source": [
    "e2e_doc = {'doc_key': 'example',\n",
    "          'sentences': [[token['text'] for token in sentence]\n",
    "                       for sentence in stanza_doc.to_dict()]}"
   ]
  },
  {
   "cell_type": "code",
   "execution_count": 36,
   "metadata": {},
   "outputs": [
    {
     "name": "stderr",
     "output_type": "stream",
     "text": [
      "/home/dafne/anaconda3/envs/filtbubtest/lib/python3.8/site-packages/tensorflow/python/framework/indexed_slices.py:431: UserWarning: Converting sparse IndexedSlices to a dense Tensor of unknown shape. This may consume a large amount of memory.\n",
      "  warnings.warn(\n"
     ]
    },
    {
     "name": "stdout",
     "output_type": "stream",
     "text": [
      "INFO:tensorflow:Restoring parameters from /home/dafne/filter-bubble/e2e-Dutch/data/final/model.max.ckpt\n"
     ]
    },
    {
     "name": "stderr",
     "output_type": "stream",
     "text": [
      "INFO:tensorflow:Restoring parameters from /home/dafne/filter-bubble/e2e-Dutch/data/final/model.max.ckpt\n"
     ]
    }
   ],
   "source": [
    "predictor = Predictor()"
   ]
  },
  {
   "cell_type": "code",
   "execution_count": 37,
   "metadata": {},
   "outputs": [],
   "source": [
    "e2e_doc['predicted_clusters'] = predictor.predict(e2e_doc)"
   ]
  },
  {
   "cell_type": "code",
   "execution_count": 38,
   "metadata": {},
   "outputs": [
    {
     "data": {
      "text/plain": [
       "[((0, 0),), ((6, 7), (10, 10))]"
      ]
     },
     "execution_count": 38,
     "metadata": {},
     "output_type": "execute_result"
    }
   ],
   "source": [
    "e2e_doc['predicted_clusters']"
   ]
  },
  {
   "cell_type": "markdown",
   "metadata": {},
   "source": [
    "Let's print out the tokens together with the clusters"
   ]
  },
  {
   "cell_type": "code",
   "execution_count": 39,
   "metadata": {},
   "outputs": [],
   "source": [
    "with io.StringIO() as sout:\n",
    "    e2edutch.conll.output_conll(sout, {'example': e2e_doc['sentences']}, \n",
    "                                      {'example': e2e_doc['predicted_clusters']})\n",
    "    conll_e2e = sout.getvalue()"
   ]
  },
  {
   "cell_type": "code",
   "execution_count": 40,
   "metadata": {},
   "outputs": [
    {
     "name": "stdout",
     "output_type": "stream",
     "text": [
      "#begin document (example);\n",
      "\n",
      "example\t0\tDit\t(0)\n",
      "example\t1\tis\t-\n",
      "example\t2\teen\t-\n",
      "example\t3\tstukje\t-\n",
      "example\t4\ttekst\t-\n",
      "example\t5\t.\t-\n",
      "\n",
      "example\t0\tDeze\t(1\n",
      "example\t1\ttekst\t1)\n",
      "example\t2\tdient\t-\n",
      "example\t3\tals\t-\n",
      "example\t4\tvoorbeeld\t(1)\n",
      "example\t5\t.\t-\n",
      "\n",
      "#end document\n",
      "\n"
     ]
    }
   ],
   "source": [
    "print(conll_e2e)"
   ]
  },
  {
   "cell_type": "code",
   "execution_count": null,
   "metadata": {},
   "outputs": [],
   "source": []
  }
 ],
 "metadata": {
  "kernelspec": {
   "display_name": "Python [conda env:filtbubtest]",
   "language": "python",
   "name": "conda-env-filtbubtest-py"
  },
  "language_info": {
   "codemirror_mode": {
    "name": "ipython",
    "version": 3
   },
   "file_extension": ".py",
   "mimetype": "text/x-python",
   "name": "python",
   "nbconvert_exporter": "python",
   "pygments_lexer": "ipython3",
   "version": "3.8.5"
  }
 },
 "nbformat": 4,
 "nbformat_minor": 2
}
