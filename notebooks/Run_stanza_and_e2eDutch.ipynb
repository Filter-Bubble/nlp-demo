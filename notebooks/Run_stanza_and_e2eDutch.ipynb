{
 "cells": [
  {
   "cell_type": "code",
   "execution_count": 1,
   "metadata": {},
   "outputs": [
    {
     "name": "stdout",
     "output_type": "stream",
     "text": [
      "WARNING:tensorflow:From /home/dafne/anaconda3/envs/e2e-tf2/lib/python3.6/site-packages/tensorflow/python/compat/v2_compat.py:96: disable_resource_variables (from tensorflow.python.ops.variable_scope) is deprecated and will be removed in a future version.\n",
      "Instructions for updating:\n",
      "non-resource variables are not supported in the long term\n"
     ]
    }
   ],
   "source": [
    "import stanza\n",
    "from e2edutch.predict import Predictor\n",
    "import e2edutch.download\n",
    "import io\n",
    "import e2edutch.conll"
   ]
  },
  {
   "cell_type": "markdown",
   "metadata": {},
   "source": [
    "Download data, if needed, for stanza and e2edutch"
   ]
  },
  {
   "cell_type": "code",
   "execution_count": 2,
   "metadata": {},
   "outputs": [
    {
     "name": "stderr",
     "output_type": "stream",
     "text": [
      "Downloading https://raw.githubusercontent.com/stanfordnlp/stanza-resources/master/resources_1.1.0.json: 122kB [00:00, 24.0MB/s]                    \n",
      "2021-01-14 14:40:58 INFO: Downloading default packages for language: nl (Dutch)...\n",
      "2021-01-14 14:40:59 INFO: File exists: /home/dafne/stanza_resources/nl/default.zip.\n",
      "2021-01-14 14:41:10 INFO: Finished downloading models and saved to /home/dafne/stanza_resources.\n"
     ]
    }
   ],
   "source": [
    "stanza.download('nl')"
   ]
  },
  {
   "cell_type": "code",
   "execution_count": 3,
   "metadata": {
    "scrolled": true
   },
   "outputs": [],
   "source": [
    "e2edutch.download.download_data()"
   ]
  },
  {
   "cell_type": "markdown",
   "metadata": {},
   "source": [
    "Here's the piece of text we want to analyze:"
   ]
  },
  {
   "cell_type": "code",
   "execution_count": 4,
   "metadata": {},
   "outputs": [],
   "source": [
    "txt = 'Dit is een stukje tekst. Deze tekst dient als voorbeeld.'"
   ]
  },
  {
   "cell_type": "markdown",
   "metadata": {},
   "source": [
    "First run stanza"
   ]
  },
  {
   "cell_type": "code",
   "execution_count": 5,
   "metadata": {},
   "outputs": [
    {
     "name": "stderr",
     "output_type": "stream",
     "text": [
      "2021-01-14 14:41:10 INFO: Loading these models for language: nl (Dutch):\n",
      "=======================\n",
      "| Processor | Package |\n",
      "-----------------------\n",
      "| tokenize  | alpino  |\n",
      "| pos       | alpino  |\n",
      "| lemma     | alpino  |\n",
      "| depparse  | alpino  |\n",
      "=======================\n",
      "\n",
      "2021-01-14 14:41:10 INFO: Use device: cpu\n",
      "2021-01-14 14:41:10 INFO: Loading: tokenize\n",
      "2021-01-14 14:41:10 INFO: Loading: pos\n",
      "2021-01-14 14:41:12 INFO: Loading: lemma\n",
      "2021-01-14 14:41:12 INFO: Loading: depparse\n",
      "2021-01-14 14:41:14 INFO: Done loading processors!\n"
     ]
    }
   ],
   "source": [
    "nlp = stanza.Pipeline('nl', processors='tokenize,lemma,pos,depparse')"
   ]
  },
  {
   "cell_type": "code",
   "execution_count": 6,
   "metadata": {},
   "outputs": [],
   "source": [
    "stanza_doc = nlp(txt)"
   ]
  },
  {
   "cell_type": "code",
   "execution_count": 7,
   "metadata": {},
   "outputs": [
    {
     "data": {
      "text/plain": [
       "[\n",
       "  [\n",
       "    {\n",
       "      \"id\": 1,\n",
       "      \"text\": \"Dit\",\n",
       "      \"lemma\": \"dit\",\n",
       "      \"upos\": \"PRON\",\n",
       "      \"xpos\": \"VNW|aanw|pron|stan|vol|3o|ev\",\n",
       "      \"feats\": \"Person=3|PronType=Dem\",\n",
       "      \"head\": 4,\n",
       "      \"deprel\": \"nsubj\",\n",
       "      \"misc\": \"start_char=0|end_char=3\"\n",
       "    },\n",
       "    {\n",
       "      \"id\": 2,\n",
       "      \"text\": \"is\",\n",
       "      \"lemma\": \"zijn\",\n",
       "      \"upos\": \"AUX\",\n",
       "      \"xpos\": \"WW|pv|tgw|ev\",\n",
       "      \"feats\": \"Number=Sing|Tense=Pres|VerbForm=Fin\",\n",
       "      \"head\": 4,\n",
       "      \"deprel\": \"cop\",\n",
       "      \"misc\": \"start_char=4|end_char=6\"\n",
       "    },\n",
       "    {\n",
       "      \"id\": 3,\n",
       "      \"text\": \"een\",\n",
       "      \"lemma\": \"een\",\n",
       "      \"upos\": \"DET\",\n",
       "      \"xpos\": \"LID|onbep|stan|agr\",\n",
       "      \"feats\": \"Definite=Ind\",\n",
       "      \"head\": 4,\n",
       "      \"deprel\": \"det\",\n",
       "      \"misc\": \"start_char=7|end_char=10\"\n",
       "    },\n",
       "    {\n",
       "      \"id\": 4,\n",
       "      \"text\": \"stukje\",\n",
       "      \"lemma\": \"stuk\",\n",
       "      \"upos\": \"NOUN\",\n",
       "      \"xpos\": \"N|soort|ev|dim|onz|stan\",\n",
       "      \"feats\": \"Gender=Neut|Number=Sing\",\n",
       "      \"head\": 0,\n",
       "      \"deprel\": \"root\",\n",
       "      \"misc\": \"start_char=11|end_char=17\"\n",
       "    },\n",
       "    {\n",
       "      \"id\": 5,\n",
       "      \"text\": \"tekst\",\n",
       "      \"lemma\": \"tekst\",\n",
       "      \"upos\": \"NOUN\",\n",
       "      \"xpos\": \"N|soort|ev|basis|zijd|stan\",\n",
       "      \"feats\": \"Gender=Com|Number=Sing\",\n",
       "      \"head\": 4,\n",
       "      \"deprel\": \"nmod\",\n",
       "      \"misc\": \"start_char=18|end_char=23\"\n",
       "    },\n",
       "    {\n",
       "      \"id\": 6,\n",
       "      \"text\": \".\",\n",
       "      \"lemma\": \".\",\n",
       "      \"upos\": \"PUNCT\",\n",
       "      \"xpos\": \"LET\",\n",
       "      \"head\": 4,\n",
       "      \"deprel\": \"punct\",\n",
       "      \"misc\": \"start_char=23|end_char=24\"\n",
       "    }\n",
       "  ],\n",
       "  [\n",
       "    {\n",
       "      \"id\": 1,\n",
       "      \"text\": \"Deze\",\n",
       "      \"lemma\": \"deze\",\n",
       "      \"upos\": \"DET\",\n",
       "      \"xpos\": \"VNW|aanw|det|stan|prenom|met-e|rest\",\n",
       "      \"head\": 2,\n",
       "      \"deprel\": \"det\",\n",
       "      \"misc\": \"start_char=25|end_char=29\"\n",
       "    },\n",
       "    {\n",
       "      \"id\": 2,\n",
       "      \"text\": \"tekst\",\n",
       "      \"lemma\": \"tekst\",\n",
       "      \"upos\": \"NOUN\",\n",
       "      \"xpos\": \"N|soort|ev|basis|zijd|stan\",\n",
       "      \"feats\": \"Gender=Com|Number=Sing\",\n",
       "      \"head\": 3,\n",
       "      \"deprel\": \"nsubj\",\n",
       "      \"misc\": \"start_char=30|end_char=35\"\n",
       "    },\n",
       "    {\n",
       "      \"id\": 3,\n",
       "      \"text\": \"dient\",\n",
       "      \"lemma\": \"dienen\",\n",
       "      \"upos\": \"VERB\",\n",
       "      \"xpos\": \"WW|pv|tgw|met-t\",\n",
       "      \"feats\": \"Number=Sing|Tense=Pres|VerbForm=Fin\",\n",
       "      \"head\": 0,\n",
       "      \"deprel\": \"root\",\n",
       "      \"misc\": \"start_char=36|end_char=41\"\n",
       "    },\n",
       "    {\n",
       "      \"id\": 4,\n",
       "      \"text\": \"als\",\n",
       "      \"lemma\": \"als\",\n",
       "      \"upos\": \"ADP\",\n",
       "      \"xpos\": \"VZ|init\",\n",
       "      \"head\": 5,\n",
       "      \"deprel\": \"mark\",\n",
       "      \"misc\": \"start_char=42|end_char=45\"\n",
       "    },\n",
       "    {\n",
       "      \"id\": 5,\n",
       "      \"text\": \"voorbeeld\",\n",
       "      \"lemma\": \"voorbeeld\",\n",
       "      \"upos\": \"NOUN\",\n",
       "      \"xpos\": \"N|soort|ev|basis|onz|stan\",\n",
       "      \"feats\": \"Gender=Neut|Number=Sing\",\n",
       "      \"head\": 3,\n",
       "      \"deprel\": \"xcomp\",\n",
       "      \"misc\": \"start_char=46|end_char=55\"\n",
       "    },\n",
       "    {\n",
       "      \"id\": 6,\n",
       "      \"text\": \".\",\n",
       "      \"lemma\": \".\",\n",
       "      \"upos\": \"PUNCT\",\n",
       "      \"xpos\": \"LET\",\n",
       "      \"head\": 3,\n",
       "      \"deprel\": \"punct\",\n",
       "      \"misc\": \"start_char=55|end_char=56\"\n",
       "    }\n",
       "  ]\n",
       "]"
      ]
     },
     "execution_count": 7,
     "metadata": {},
     "output_type": "execute_result"
    }
   ],
   "source": [
    "stanza_doc"
   ]
  },
  {
   "cell_type": "markdown",
   "metadata": {},
   "source": [
    "To use the output of stanza for e2edutch, we only need the output of the tokenization:"
   ]
  },
  {
   "cell_type": "code",
   "execution_count": 8,
   "metadata": {},
   "outputs": [],
   "source": [
    "e2e_doc = {'doc_key': 'example',\n",
    "          'sentences': [[token['text'] for token in sentence]\n",
    "                       for sentence in stanza_doc.to_dict()]}"
   ]
  },
  {
   "cell_type": "code",
   "execution_count": 9,
   "metadata": {},
   "outputs": [
    {
     "name": "stdout",
     "output_type": "stream",
     "text": [
      "WARNING:tensorflow:From /home/dafne/filter-bubble/e2e-Dutch/e2edutch/coref_model.py:278: to_float (from tensorflow.python.ops.math_ops) is deprecated and will be removed in a future version.\n",
      "Instructions for updating:\n",
      "Use `tf.cast` instead.\n",
      "WARNING:tensorflow:From /home/dafne/filter-bubble/e2e-Dutch/e2edutch/coref_model.py:398: calling dropout (from tensorflow.python.ops.nn_ops) with keep_prob is deprecated and will be removed in a future version.\n",
      "Instructions for updating:\n",
      "Please use `rate` instead of `keep_prob`. Rate should be set to `rate = 1 - keep_prob`.\n",
      "WARNING:tensorflow:From /home/dafne/filter-bubble/e2e-Dutch/e2edutch/coref_model.py:756: bidirectional_dynamic_rnn (from tensorflow.python.ops.rnn) is deprecated and will be removed in a future version.\n",
      "Instructions for updating:\n",
      "Please use `keras.layers.Bidirectional(keras.layers.RNN(cell))`, which is equivalent to this API\n",
      "WARNING:tensorflow:From /home/dafne/anaconda3/envs/e2e-tf2/lib/python3.6/site-packages/tensorflow/python/ops/rnn.py:464: dynamic_rnn (from tensorflow.python.ops.rnn) is deprecated and will be removed in a future version.\n",
      "Instructions for updating:\n",
      "Please use `keras.layers.RNN(cell)`, which is equivalent to this API\n",
      "WARNING:tensorflow:From /home/dafne/filter-bubble/e2e-Dutch/e2edutch/coref_model.py:273: to_int32 (from tensorflow.python.ops.math_ops) is deprecated and will be removed in a future version.\n",
      "Instructions for updating:\n",
      "Use `tf.cast` instead.\n"
     ]
    },
    {
     "name": "stderr",
     "output_type": "stream",
     "text": [
      "/home/dafne/anaconda3/envs/e2e-tf2/lib/python3.6/site-packages/tensorflow/python/framework/indexed_slices.py:434: UserWarning: Converting sparse IndexedSlices to a dense Tensor of unknown shape. This may consume a large amount of memory.\n",
      "  \"Converting sparse IndexedSlices to a dense Tensor of unknown shape. \"\n"
     ]
    },
    {
     "name": "stdout",
     "output_type": "stream",
     "text": [
      "INFO:tensorflow:Restoring parameters from /home/dafne/filter-bubble/e2e-Dutch/e2edutch/data/final/model.max.ckpt\n"
     ]
    }
   ],
   "source": [
    "predictor = Predictor()"
   ]
  },
  {
   "cell_type": "code",
   "execution_count": 10,
   "metadata": {},
   "outputs": [],
   "source": [
    "e2e_doc['predicted_clusters'] = predictor.predict(e2e_doc)"
   ]
  },
  {
   "cell_type": "code",
   "execution_count": 11,
   "metadata": {},
   "outputs": [
    {
     "data": {
      "text/plain": [
       "[((0, 0),), ((6, 7), (10, 10))]"
      ]
     },
     "execution_count": 11,
     "metadata": {},
     "output_type": "execute_result"
    }
   ],
   "source": [
    "e2e_doc['predicted_clusters']"
   ]
  },
  {
   "cell_type": "markdown",
   "metadata": {},
   "source": [
    "Let's print out the tokens together with the clusters, in conll-2012 format"
   ]
  },
  {
   "cell_type": "code",
   "execution_count": 12,
   "metadata": {},
   "outputs": [],
   "source": [
    "with io.StringIO() as sout:\n",
    "    e2edutch.conll.output_conll(sout, {'example': e2e_doc['sentences']}, \n",
    "                                      {'example': e2e_doc['predicted_clusters']})\n",
    "    conll_e2e = sout.getvalue()"
   ]
  },
  {
   "cell_type": "code",
   "execution_count": 13,
   "metadata": {},
   "outputs": [
    {
     "name": "stdout",
     "output_type": "stream",
     "text": [
      "#begin document (example);\n",
      "\n",
      "example\t0\tDit\t(0)\n",
      "example\t1\tis\t-\n",
      "example\t2\teen\t-\n",
      "example\t3\tstukje\t-\n",
      "example\t4\ttekst\t-\n",
      "example\t5\t.\t-\n",
      "\n",
      "example\t0\tDeze\t(1\n",
      "example\t1\ttekst\t1)\n",
      "example\t2\tdient\t-\n",
      "example\t3\tals\t-\n",
      "example\t4\tvoorbeeld\t(1)\n",
      "example\t5\t.\t-\n",
      "\n",
      "#end document\n",
      "\n"
     ]
    }
   ],
   "source": [
    "print(conll_e2e)"
   ]
  },
  {
   "cell_type": "markdown",
   "metadata": {},
   "source": [
    "Combine the stanza tokens with the clusters:"
   ]
  },
  {
   "cell_type": "code",
   "execution_count": 14,
   "metadata": {},
   "outputs": [
    {
     "data": {
      "text/plain": [
       "[['(0)', '-', '-', '-', '-', '-'], ['(1', '1)', '-', '-', '(1)', '-']]"
      ]
     },
     "execution_count": 14,
     "metadata": {},
     "output_type": "execute_result"
    }
   ],
   "source": [
    "clusters_brackets = e2edutch.conll.clusters_to_brackets(e2e_doc['sentences'], e2e_doc['predicted_clusters'])\n",
    "clusters_brackets"
   ]
  },
  {
   "cell_type": "code",
   "execution_count": 15,
   "metadata": {},
   "outputs": [
    {
     "name": "stdout",
     "output_type": "stream",
     "text": [
      "1\tDit\tdit\tPRON\tVNW|aanw|pron|stan|vol|3o|ev\tPerson=3|PronType=Dem\t4\tnsubj\t_\tstart_char=0|end_char=3\t(0)\n",
      "2\tis\tzijn\tAUX\tWW|pv|tgw|ev\tNumber=Sing|Tense=Pres|VerbForm=Fin\t4\tcop\t_\tstart_char=4|end_char=6\t-\n",
      "3\teen\teen\tDET\tLID|onbep|stan|agr\tDefinite=Ind\t4\tdet\t_\tstart_char=7|end_char=10\t-\n",
      "4\tstukje\tstuk\tNOUN\tN|soort|ev|dim|onz|stan\tGender=Neut|Number=Sing\t0\troot\t_\tstart_char=11|end_char=17\t-\n",
      "5\ttekst\ttekst\tNOUN\tN|soort|ev|basis|zijd|stan\tGender=Com|Number=Sing\t4\tnmod\t_\tstart_char=18|end_char=23\t-\n",
      "6\t.\t.\tPUNCT\tLET\t_\t4\tpunct\t_\tstart_char=23|end_char=24\t-\n",
      "\n",
      "\n",
      "1\tDeze\tdeze\tDET\tVNW|aanw|det|stan|prenom|met-e|rest\t_\t2\tdet\t_\tstart_char=25|end_char=29\t(1\n",
      "2\ttekst\ttekst\tNOUN\tN|soort|ev|basis|zijd|stan\tGender=Com|Number=Sing\t3\tnsubj\t_\tstart_char=30|end_char=35\t1)\n",
      "3\tdient\tdienen\tVERB\tWW|pv|tgw|met-t\tNumber=Sing|Tense=Pres|VerbForm=Fin\t0\troot\t_\tstart_char=36|end_char=41\t-\n",
      "4\tals\tals\tADP\tVZ|init\t_\t5\tmark\t_\tstart_char=42|end_char=45\t-\n",
      "5\tvoorbeeld\tvoorbeeld\tNOUN\tN|soort|ev|basis|onz|stan\tGender=Neut|Number=Sing\t3\txcomp\t_\tstart_char=46|end_char=55\t(1)\n",
      "6\t.\t.\tPUNCT\tLET\t_\t3\tpunct\t_\tstart_char=55|end_char=56\t-\n",
      "\n",
      "\n"
     ]
    }
   ],
   "source": [
    "conll_list_stanza = stanza.utils.conll.CoNLL.convert_dict(stanza_doc.to_dict())\n",
    "for sent_stanza, sent_e2e in zip(conll_list_stanza, clusters_brackets):\n",
    "    for tok_stanza, tok_e2e in zip(sent_stanza, sent_e2e):\n",
    "        print('\\t'.join(tok_stanza)+'\\t'+tok_e2e)\n",
    "    print('\\n')"
   ]
  },
  {
   "cell_type": "code",
   "execution_count": null,
   "metadata": {},
   "outputs": [],
   "source": []
  }
 ],
 "metadata": {
  "kernelspec": {
   "display_name": "Python [conda env:e2e-tf2]",
   "language": "python",
   "name": "conda-env-e2e-tf2-py"
  },
  "language_info": {
   "codemirror_mode": {
    "name": "ipython",
    "version": 3
   },
   "file_extension": ".py",
   "mimetype": "text/x-python",
   "name": "python",
   "nbconvert_exporter": "python",
   "pygments_lexer": "ipython3",
   "version": "3.6.10"
  }
 },
 "nbformat": 4,
 "nbformat_minor": 2
}
