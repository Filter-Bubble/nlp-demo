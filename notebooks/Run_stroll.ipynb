{
 "cells": [
  {
   "cell_type": "code",
   "execution_count": 1,
   "metadata": {},
   "outputs": [
    {
     "name": "stderr",
     "output_type": "stream",
     "text": [
      "/home/dafne/anaconda3/envs/e2etest/lib/python3.8/site-packages/torch/cuda/__init__.py:52: UserWarning: CUDA initialization: Found no NVIDIA driver on your system. Please check that you have an NVIDIA GPU and installed a driver from http://www.nvidia.com/Download/index.aspx (Triggered internally at  /pytorch/c10/cuda/CUDAFunctions.cpp:100.)\n",
      "  return torch._C._cuda_getDeviceCount() > 0\n",
      "Using backend: pytorch\n"
     ]
    }
   ],
   "source": [
    "import stroll.util\n",
    "from stroll.conllu import ConlluDataset\n",
    "import torch\n",
    "import stroll.labels\n",
    "import stroll.graph\n",
    "import stroll.model\n",
    "import stroll.srl\n",
    "import dgl"
   ]
  },
  {
   "cell_type": "code",
   "execution_count": 2,
   "metadata": {},
   "outputs": [],
   "source": [
    "dataset = stroll.conllu.ConlluDataset('example.conllu')"
   ]
  },
  {
   "cell_type": "code",
   "execution_count": 3,
   "metadata": {},
   "outputs": [],
   "source": [
    "fname_fasttext, fname_model = stroll.util.download_srl_model('data')"
   ]
  },
  {
   "cell_type": "code",
   "execution_count": 4,
   "metadata": {},
   "outputs": [],
   "source": [
    "state_dict = torch.load(fname_model)\n",
    "hyperparams = state_dict.pop('hyperparams')"
   ]
  },
  {
   "cell_type": "code",
   "execution_count": 5,
   "metadata": {},
   "outputs": [
    {
     "name": "stderr",
     "output_type": "stream",
     "text": [
      "Warning : `load_model` does not return WordVectorModel or SupervisedModel any more, but a `FastText` object which is very similar.\n"
     ]
    }
   ],
   "source": [
    "sentence_encoder = stroll.labels.FasttextEncoder(str(fname_fasttext))\n",
    "dataset_graph = stroll.graph.GraphDataset(\n",
    "            dataset=dataset,\n",
    "            sentence_encoder=sentence_encoder,\n",
    "            features=hyperparams.features\n",
    "            )"
   ]
  },
  {
   "cell_type": "code",
   "execution_count": 6,
   "metadata": {},
   "outputs": [],
   "source": [
    "dataloader = torch.utils.data.DataLoader(\n",
    "            dataset_graph,\n",
    "            #batch_size=50,\n",
    "            #num_workers=2\n",
    "            collate_fn=dgl.batch\n",
    "            )"
   ]
  },
  {
   "cell_type": "code",
   "execution_count": 7,
   "metadata": {},
   "outputs": [],
   "source": [
    "net = stroll.model.Net(\n",
    "            in_feats=dataset_graph.in_feats,\n",
    "            h_layers=hyperparams.h_layers,\n",
    "            h_dims=hyperparams.h_dims,\n",
    "            out_feats_a=2,\n",
    "            out_feats_b=19,\n",
    "            activation='relu'\n",
    "            )"
   ]
  },
  {
   "cell_type": "code",
   "execution_count": 8,
   "metadata": {},
   "outputs": [
    {
     "name": "stderr",
     "output_type": "stream",
     "text": [
      "/home/dafne/anaconda3/envs/e2etest/lib/python3.8/site-packages/dgl/base.py:45: DGLWarning: Recommend creating graphs by `dgl.graph(data)` instead of `dgl.DGLGraph(data)`.\n",
      "  return warnings.warn(message, category=category, stacklevel=1)\n",
      "/home/dafne/anaconda3/envs/e2etest/lib/python3.8/site-packages/dgl/base.py:45: DGLWarning: DGLGraph.__len__ is deprecated.Please directly call DGLGraph.number_of_nodes.\n",
      "  return warnings.warn(message, category=category, stacklevel=1)\n"
     ]
    }
   ],
   "source": [
    "net.load_state_dict(state_dict)\n",
    "\n",
    "stroll.srl.infer(net, dataloader, dataset_graph, batch_size=50)"
   ]
  },
  {
   "cell_type": "code",
   "execution_count": 9,
   "metadata": {},
   "outputs": [
    {
     "data": {
      "text/plain": [
       "# newdoc id = text-stanza.conllu\n",
       "# sent_id = 0\n",
       "# text = Dit is een stukje tekst.\n",
       "1\tDit\tdit\tPRON\tVNW|aanw|pron|stan|vol|3o|ev\tPerson=3|PronType=Dem\t4\tnsubj\t_\tstart_char=0|end_char=3\t_\t_\t_\n",
       "2\tis\tzijn\tAUX\tWW|pv|tgw|ev\tNumber=Sing|Tense=Pres|VerbForm=Fin\t4\tcop\t_\tstart_char=4|end_char=6\t_\t_\t_\n",
       "3\teen\teen\tDET\tLID|onbep|stan|agr\tDefinite=Ind\t4\tdet\t_\tstart_char=7|end_char=10\t_\t_\t_\n",
       "4\tstukje\tstuk\tNOUN\tN|soort|ev|dim|onz|stan\tGender=Neut|Number=Sing\t0\troot\t_\tstart_char=11|end_char=17\t_\t_\t_\n",
       "5\ttekst\ttekst\tNOUN\tN|soort|ev|basis|zijd|stan\tGender=Com|Number=Sing\t4\tnmod\t_\tstart_char=18|end_char=23\t_\t_\t_\n",
       "6\t.\t.\tPUNCT\tLET\t_\t4\tpunct\t_\tstart_char=23|end_char=24\t_\t_\t_\n",
       "\n",
       "# sent_id = 1\n",
       "# text = Het dient als voorbeeld.\n",
       "1\tHet\thet\tPRON\tVNW|pers|pron|stan|red|3|ev|onz\tPerson=3|PronType=Prs\t2\tnsubj\t_\tstart_char=25|end_char=28\t_\t_\t_\n",
       "2\tdient\tdienen\tVERB\tWW|pv|tgw|met-t\tNumber=Sing|Tense=Pres|VerbForm=Fin\t0\troot\t_\tstart_char=29|end_char=34\t_\t_\t_\n",
       "3\tals\tals\tADP\tVZ|init\t_\t4\tmark\t_\tstart_char=35|end_char=38\t_\t_\t_\n",
       "4\tvoorbeeld\tvoorbeeld\tNOUN\tN|soort|ev|basis|onz|stan\tGender=Neut|Number=Sing\t2\txcomp\t_\tstart_char=39|end_char=48\t_\t_\t_\n",
       "5\t.\t.\tPUNCT\tLET\t_\t2\tpunct\t_\tstart_char=48|end_char=49\t_\t_\t_\n",
       "\n",
       "# sent_id = 2\n",
       "# text = Ik heb het geschreven\n",
       "1\tIk\tik\tPRON\tVNW|pers|pron|nomin|vol|1|ev\tCase=Nom|Person=1|PronType=Prs\t4\tnsubj\t_\tstart_char=50|end_char=52\t_\tArg0\t_\n",
       "2\theb\thebben\tAUX\tWW|pv|tgw|ev\tNumber=Sing|Tense=Pres|VerbForm=Fin\t4\taux\t_\tstart_char=53|end_char=56\t_\t_\t_\n",
       "3\thet\thet\tPRON\tVNW|pers|pron|stan|red|3|ev|onz\tPerson=3|PronType=Prs\t4\tobj\t_\tstart_char=57|end_char=60\t_\tArg1\t_\n",
       "4\tgeschreven\tschrijven\tVERB\tWW|vd|vrij|zonder\tVerbForm=Part\t0\troot\t_\tstart_char=61|end_char=71\trel\t_\t_"
      ]
     },
     "execution_count": 9,
     "metadata": {},
     "output_type": "execute_result"
    }
   ],
   "source": [
    "# Show the CONLL output including the SRL output\n",
    "dataset"
   ]
  },
  {
   "cell_type": "code",
   "execution_count": null,
   "metadata": {},
   "outputs": [],
   "source": []
  }
 ],
 "metadata": {
  "kernelspec": {
   "display_name": "Python [conda env:e2etest]",
   "language": "python",
   "name": "conda-env-e2etest-py"
  },
  "language_info": {
   "codemirror_mode": {
    "name": "ipython",
    "version": 3
   },
   "file_extension": ".py",
   "mimetype": "text/x-python",
   "name": "python",
   "nbconvert_exporter": "python",
   "pygments_lexer": "ipython3",
   "version": "3.8.5"
  }
 },
 "nbformat": 4,
 "nbformat_minor": 2
}
