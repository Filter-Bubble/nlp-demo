{
 "cells": [
  {
   "cell_type": "code",
   "execution_count": 1,
   "metadata": {},
   "outputs": [
    {
     "name": "stdout",
     "output_type": "stream",
     "text": [
      "WARNING:tensorflow:From /home/dafne/anaconda3/envs/filtbubtest/lib/python3.8/site-packages/tensorflow/python/compat/v2_compat.py:96: disable_resource_variables (from tensorflow.python.ops.variable_scope) is deprecated and will be removed in a future version.\n",
      "Instructions for updating:\n",
      "non-resource variables are not supported in the long term\n"
     ]
    },
    {
     "name": "stderr",
     "output_type": "stream",
     "text": [
      "/home/dafne/anaconda3/envs/filtbubtest/lib/python3.8/site-packages/torch/cuda/__init__.py:52: UserWarning: CUDA initialization: Found no NVIDIA driver on your system. Please check that you have an NVIDIA GPU and installed a driver from http://www.nvidia.com/Download/index.aspx (Triggered internally at  /pytorch/c10/cuda/CUDAFunctions.cpp:100.)\n",
      "  return torch._C._cuda_getDeviceCount() > 0\n",
      "Using backend: pytorch\n"
     ]
    }
   ],
   "source": [
    "import stanza\n",
    "import e2edutch.stanza\n",
    "import stroll.stanza"
   ]
  },
  {
   "cell_type": "code",
   "execution_count": null,
   "metadata": {},
   "outputs": [],
   "source": [
    "# Download stanza resources\n",
    "stanza.download('nl')"
   ]
  },
  {
   "cell_type": "code",
   "execution_count": 5,
   "metadata": {},
   "outputs": [
    {
     "name": "stderr",
     "output_type": "stream",
     "text": [
      "2021-01-27 16:33:33 INFO: Loading these models for language: nl (Dutch):\n",
      "=======================\n",
      "| Processor | Package |\n",
      "-----------------------\n",
      "| tokenize  | alpino  |\n",
      "| pos       | alpino  |\n",
      "| lemma     | alpino  |\n",
      "| depparse  | alpino  |\n",
      "| coref     | default |\n",
      "| srl       | default |\n",
      "=======================\n",
      "\n",
      "2021-01-27 16:33:33 INFO: Use device: cpu\n",
      "2021-01-27 16:33:33 INFO: Loading: tokenize\n",
      "2021-01-27 16:33:33 INFO: Loading: pos\n",
      "2021-01-27 16:33:34 INFO: Loading: lemma\n",
      "2021-01-27 16:33:34 INFO: Loading: depparse\n",
      "2021-01-27 16:33:36 INFO: Loading: coref\n",
      "Setting CUDA_VISIBLE_DEVICES to: \n",
      "Running model: final\n",
      "Loading context embeddings..\n",
      "Loading head embeddings..\n",
      "Loading BERT model...\n"
     ]
    },
    {
     "name": "stdout",
     "output_type": "stream",
     "text": [
      "WARNING:tensorflow:From /home/dafne/filter-bubble/e2e-Dutch/e2edutch/coref_model.py:314: to_float (from tensorflow.python.ops.math_ops) is deprecated and will be removed in a future version.\n",
      "Instructions for updating:\n",
      "Use `tf.cast` instead.\n",
      "WARNING:tensorflow:From /home/dafne/anaconda3/envs/filtbubtest/lib/python3.8/site-packages/tensorflow/python/util/dispatch.py:201: calling dropout (from tensorflow.python.ops.nn_ops) with keep_prob is deprecated and will be removed in a future version.\n",
      "Instructions for updating:\n",
      "Please use `rate` instead of `keep_prob`. Rate should be set to `rate = 1 - keep_prob`.\n",
      "WARNING:tensorflow:From /home/dafne/filter-bubble/e2e-Dutch/e2edutch/coref_model.py:786: bidirectional_dynamic_rnn (from tensorflow.python.ops.rnn) is deprecated and will be removed in a future version.\n",
      "Instructions for updating:\n",
      "Please use `keras.layers.Bidirectional(keras.layers.RNN(cell))`, which is equivalent to this API\n",
      "WARNING:tensorflow:From /home/dafne/anaconda3/envs/filtbubtest/lib/python3.8/site-packages/tensorflow/python/ops/rnn.py:438: dynamic_rnn (from tensorflow.python.ops.rnn) is deprecated and will be removed in a future version.\n",
      "Instructions for updating:\n",
      "Please use `keras.layers.RNN(cell)`, which is equivalent to this API\n",
      "WARNING:tensorflow:From /home/dafne/filter-bubble/e2e-Dutch/e2edutch/coref_model.py:309: to_int32 (from tensorflow.python.ops.math_ops) is deprecated and will be removed in a future version.\n",
      "Instructions for updating:\n",
      "Use `tf.cast` instead.\n"
     ]
    },
    {
     "name": "stderr",
     "output_type": "stream",
     "text": [
      "/home/dafne/anaconda3/envs/filtbubtest/lib/python3.8/site-packages/tensorflow/python/framework/indexed_slices.py:431: UserWarning: Converting sparse IndexedSlices to a dense Tensor of unknown shape. This may consume a large amount of memory.\n",
      "  warnings.warn(\n",
      "Restoring coref model from /home/dafne/stanza_resources/nl/coref/final/model.max.ckpt\n"
     ]
    },
    {
     "name": "stdout",
     "output_type": "stream",
     "text": [
      "INFO:tensorflow:Restoring parameters from /home/dafne/stanza_resources/nl/coref/final/model.max.ckpt\n"
     ]
    },
    {
     "name": "stderr",
     "output_type": "stream",
     "text": [
      "2021-01-27 16:34:00 INFO: Loading: srl\n",
      "Warning : `load_model` does not return WordVectorModel or SupervisedModel any more, but a `FastText` object which is very similar.\n",
      "2021-01-27 16:38:35 INFO: Done loading processors!\n"
     ]
    }
   ],
   "source": [
    "nlp = stanza.Pipeline(lang='nl', processors='tokenize,lemma,pos,depparse,srl,coref')"
   ]
  },
  {
   "cell_type": "code",
   "execution_count": 6,
   "metadata": {},
   "outputs": [
    {
     "name": "stderr",
     "output_type": "stream",
     "text": [
      "Loading context embeddings..\n",
      "Loading head embeddings..\n",
      "Loading BERT model...\n",
      "Restoring coref model from /home/dafne/stanza_resources/nl/coref/final/model.max.ckpt\n"
     ]
    },
    {
     "name": "stdout",
     "output_type": "stream",
     "text": [
      "INFO:tensorflow:Restoring parameters from /home/dafne/stanza_resources/nl/coref/final/model.max.ckpt\n"
     ]
    },
    {
     "name": "stderr",
     "output_type": "stream",
     "text": [
      "/home/dafne/anaconda3/envs/filtbubtest/lib/python3.8/site-packages/dgl-0.6a210127-py3.8-linux-x86_64.egg/dgl/base.py:45: DGLWarning: Recommend creating graphs by `dgl.graph(data)` instead of `dgl.DGLGraph(data)`.\n",
      "  return warnings.warn(message, category=category, stacklevel=1)\n",
      "/home/dafne/anaconda3/envs/filtbubtest/lib/python3.8/site-packages/dgl-0.6a210127-py3.8-linux-x86_64.egg/dgl/base.py:45: DGLWarning: DGLGraph.__len__ is deprecated.Please directly call DGLGraph.number_of_nodes.\n",
      "  return warnings.warn(message, category=category, stacklevel=1)\n"
     ]
    }
   ],
   "source": [
    "doc = nlp('Dit is een stukje tekst. Deze tekst bevat coreferenties. We annoteren ook de semantische rollen.')"
   ]
  },
  {
   "cell_type": "code",
   "execution_count": 8,
   "metadata": {},
   "outputs": [
    {
     "name": "stdout",
     "output_type": "stream",
     "text": [
      "Dit dit _ _\n",
      "is zijn _ _\n",
      "een een _ _\n",
      "stukje stuk _ _\n",
      "tekst tekst _ _\n",
      ". . _ _\n",
      "Deze deze _ _\n",
      "tekst tekst Arg0 _\n",
      "bevat bevatten _ rel\n",
      "coreferenties coreferentie Arg1 _\n",
      ". . _ _\n",
      "We we Arg0 _\n",
      "annoteren annoteren _ rel\n",
      "ook ook ArgM-DIS _\n",
      "de de _ _\n",
      "semantische semantisch _ _\n",
      "rollen rol Arg1 _\n",
      ". . _ _\n"
     ]
    }
   ],
   "source": [
    "for s in doc.sentences:\n",
    "    for w in s.words:\n",
    "        print(w.text, w.lemma, w.srl, w.frame)"
   ]
  },
  {
   "cell_type": "code",
   "execution_count": 9,
   "metadata": {},
   "outputs": [
    {
     "name": "stdout",
     "output_type": "stream",
     "text": [
      "cluster 0 : ['Dit']\n",
      "cluster 1 : ['Deze tekst', 'We']\n",
      "cluster 2 : ['coreferenties']\n",
      "cluster 3 : ['de semantische rollen']\n"
     ]
    }
   ],
   "source": [
    "for i, cluster in enumerate(doc.clusters):\n",
    "    print('cluster {} :'.format(i), [span.text for span in cluster])"
   ]
  },
  {
   "cell_type": "markdown",
   "metadata": {},
   "source": [
    "Note that the built-in str representation of the stanza doc does not include the srl and coref output:"
   ]
  },
  {
   "cell_type": "code",
   "execution_count": 10,
   "metadata": {},
   "outputs": [
    {
     "data": {
      "text/plain": [
       "[\n",
       "  [\n",
       "    {\n",
       "      \"id\": 1,\n",
       "      \"text\": \"Dit\",\n",
       "      \"lemma\": \"dit\",\n",
       "      \"upos\": \"PRON\",\n",
       "      \"xpos\": \"VNW|aanw|pron|stan|vol|3o|ev\",\n",
       "      \"feats\": \"Person=3|PronType=Dem\",\n",
       "      \"head\": 4,\n",
       "      \"deprel\": \"nsubj\",\n",
       "      \"misc\": \"start_char=0|end_char=3\"\n",
       "    },\n",
       "    {\n",
       "      \"id\": 2,\n",
       "      \"text\": \"is\",\n",
       "      \"lemma\": \"zijn\",\n",
       "      \"upos\": \"AUX\",\n",
       "      \"xpos\": \"WW|pv|tgw|ev\",\n",
       "      \"feats\": \"Number=Sing|Tense=Pres|VerbForm=Fin\",\n",
       "      \"head\": 4,\n",
       "      \"deprel\": \"cop\",\n",
       "      \"misc\": \"start_char=4|end_char=6\"\n",
       "    },\n",
       "    {\n",
       "      \"id\": 3,\n",
       "      \"text\": \"een\",\n",
       "      \"lemma\": \"een\",\n",
       "      \"upos\": \"DET\",\n",
       "      \"xpos\": \"LID|onbep|stan|agr\",\n",
       "      \"feats\": \"Definite=Ind\",\n",
       "      \"head\": 4,\n",
       "      \"deprel\": \"det\",\n",
       "      \"misc\": \"start_char=7|end_char=10\"\n",
       "    },\n",
       "    {\n",
       "      \"id\": 4,\n",
       "      \"text\": \"stukje\",\n",
       "      \"lemma\": \"stuk\",\n",
       "      \"upos\": \"NOUN\",\n",
       "      \"xpos\": \"N|soort|ev|dim|onz|stan\",\n",
       "      \"feats\": \"Gender=Neut|Number=Sing\",\n",
       "      \"head\": 0,\n",
       "      \"deprel\": \"root\",\n",
       "      \"misc\": \"start_char=11|end_char=17\"\n",
       "    },\n",
       "    {\n",
       "      \"id\": 5,\n",
       "      \"text\": \"tekst\",\n",
       "      \"lemma\": \"tekst\",\n",
       "      \"upos\": \"NOUN\",\n",
       "      \"xpos\": \"N|soort|ev|basis|zijd|stan\",\n",
       "      \"feats\": \"Gender=Com|Number=Sing\",\n",
       "      \"head\": 4,\n",
       "      \"deprel\": \"nmod\",\n",
       "      \"misc\": \"start_char=18|end_char=23\"\n",
       "    },\n",
       "    {\n",
       "      \"id\": 6,\n",
       "      \"text\": \".\",\n",
       "      \"lemma\": \".\",\n",
       "      \"upos\": \"PUNCT\",\n",
       "      \"xpos\": \"LET\",\n",
       "      \"head\": 4,\n",
       "      \"deprel\": \"punct\",\n",
       "      \"misc\": \"start_char=23|end_char=24\"\n",
       "    }\n",
       "  ],\n",
       "  [\n",
       "    {\n",
       "      \"id\": 1,\n",
       "      \"text\": \"Deze\",\n",
       "      \"lemma\": \"deze\",\n",
       "      \"upos\": \"DET\",\n",
       "      \"xpos\": \"VNW|aanw|det|stan|prenom|met-e|rest\",\n",
       "      \"head\": 2,\n",
       "      \"deprel\": \"det\",\n",
       "      \"misc\": \"start_char=25|end_char=29\"\n",
       "    },\n",
       "    {\n",
       "      \"id\": 2,\n",
       "      \"text\": \"tekst\",\n",
       "      \"lemma\": \"tekst\",\n",
       "      \"upos\": \"NOUN\",\n",
       "      \"xpos\": \"N|soort|ev|basis|zijd|stan\",\n",
       "      \"feats\": \"Gender=Com|Number=Sing\",\n",
       "      \"head\": 3,\n",
       "      \"deprel\": \"nsubj\",\n",
       "      \"misc\": \"start_char=30|end_char=35\"\n",
       "    },\n",
       "    {\n",
       "      \"id\": 3,\n",
       "      \"text\": \"bevat\",\n",
       "      \"lemma\": \"bevatten\",\n",
       "      \"upos\": \"VERB\",\n",
       "      \"xpos\": \"WW|pv|tgw|ev\",\n",
       "      \"feats\": \"Number=Sing|Tense=Pres|VerbForm=Fin\",\n",
       "      \"head\": 0,\n",
       "      \"deprel\": \"root\",\n",
       "      \"misc\": \"start_char=36|end_char=41\"\n",
       "    },\n",
       "    {\n",
       "      \"id\": 4,\n",
       "      \"text\": \"coreferenties\",\n",
       "      \"lemma\": \"coreferentie\",\n",
       "      \"upos\": \"NOUN\",\n",
       "      \"xpos\": \"N|soort|mv|basis\",\n",
       "      \"feats\": \"Number=Plur\",\n",
       "      \"head\": 3,\n",
       "      \"deprel\": \"obj\",\n",
       "      \"misc\": \"start_char=42|end_char=55\"\n",
       "    },\n",
       "    {\n",
       "      \"id\": 5,\n",
       "      \"text\": \".\",\n",
       "      \"lemma\": \".\",\n",
       "      \"upos\": \"PUNCT\",\n",
       "      \"xpos\": \"LET\",\n",
       "      \"head\": 3,\n",
       "      \"deprel\": \"punct\",\n",
       "      \"misc\": \"start_char=55|end_char=56\"\n",
       "    }\n",
       "  ],\n",
       "  [\n",
       "    {\n",
       "      \"id\": 1,\n",
       "      \"text\": \"We\",\n",
       "      \"lemma\": \"we\",\n",
       "      \"upos\": \"PRON\",\n",
       "      \"xpos\": \"VNW|pers|pron|nomin|red|1|mv\",\n",
       "      \"feats\": \"Case=Nom|Person=1|PronType=Prs\",\n",
       "      \"head\": 2,\n",
       "      \"deprel\": \"nsubj\",\n",
       "      \"misc\": \"start_char=57|end_char=59\"\n",
       "    },\n",
       "    {\n",
       "      \"id\": 2,\n",
       "      \"text\": \"annoteren\",\n",
       "      \"lemma\": \"annoteren\",\n",
       "      \"upos\": \"VERB\",\n",
       "      \"xpos\": \"WW|pv|tgw|mv\",\n",
       "      \"feats\": \"Number=Plur|Tense=Pres|VerbForm=Fin\",\n",
       "      \"head\": 0,\n",
       "      \"deprel\": \"root\",\n",
       "      \"misc\": \"start_char=60|end_char=69\"\n",
       "    },\n",
       "    {\n",
       "      \"id\": 3,\n",
       "      \"text\": \"ook\",\n",
       "      \"lemma\": \"ook\",\n",
       "      \"upos\": \"ADV\",\n",
       "      \"xpos\": \"BW\",\n",
       "      \"head\": 2,\n",
       "      \"deprel\": \"advmod\",\n",
       "      \"misc\": \"start_char=70|end_char=73\"\n",
       "    },\n",
       "    {\n",
       "      \"id\": 4,\n",
       "      \"text\": \"de\",\n",
       "      \"lemma\": \"de\",\n",
       "      \"upos\": \"DET\",\n",
       "      \"xpos\": \"LID|bep|stan|rest\",\n",
       "      \"feats\": \"Definite=Def\",\n",
       "      \"head\": 6,\n",
       "      \"deprel\": \"det\",\n",
       "      \"misc\": \"start_char=74|end_char=76\"\n",
       "    },\n",
       "    {\n",
       "      \"id\": 5,\n",
       "      \"text\": \"semantische\",\n",
       "      \"lemma\": \"semantisch\",\n",
       "      \"upos\": \"ADJ\",\n",
       "      \"xpos\": \"ADJ|prenom|basis|met-e|stan\",\n",
       "      \"feats\": \"Degree=Pos\",\n",
       "      \"head\": 6,\n",
       "      \"deprel\": \"amod\",\n",
       "      \"misc\": \"start_char=77|end_char=88\"\n",
       "    },\n",
       "    {\n",
       "      \"id\": 6,\n",
       "      \"text\": \"rollen\",\n",
       "      \"lemma\": \"rol\",\n",
       "      \"upos\": \"NOUN\",\n",
       "      \"xpos\": \"N|soort|mv|basis\",\n",
       "      \"feats\": \"Number=Plur\",\n",
       "      \"head\": 2,\n",
       "      \"deprel\": \"obj\",\n",
       "      \"misc\": \"start_char=89|end_char=95\"\n",
       "    },\n",
       "    {\n",
       "      \"id\": 7,\n",
       "      \"text\": \".\",\n",
       "      \"lemma\": \".\",\n",
       "      \"upos\": \"PUNCT\",\n",
       "      \"xpos\": \"LET\",\n",
       "      \"head\": 2,\n",
       "      \"deprel\": \"punct\",\n",
       "      \"misc\": \"start_char=95|end_char=96\"\n",
       "    }\n",
       "  ]\n",
       "]"
      ]
     },
     "execution_count": 10,
     "metadata": {},
     "output_type": "execute_result"
    }
   ],
   "source": [
    "doc"
   ]
  },
  {
   "cell_type": "code",
   "execution_count": null,
   "metadata": {},
   "outputs": [],
   "source": []
  }
 ],
 "metadata": {
  "kernelspec": {
   "display_name": "Python [conda env:filtbubtest]",
   "language": "python",
   "name": "conda-env-filtbubtest-py"
  },
  "language_info": {
   "codemirror_mode": {
    "name": "ipython",
    "version": 3
   },
   "file_extension": ".py",
   "mimetype": "text/x-python",
   "name": "python",
   "nbconvert_exporter": "python",
   "pygments_lexer": "ipython3",
   "version": "3.8.5"
  }
 },
 "nbformat": 4,
 "nbformat_minor": 2
}
